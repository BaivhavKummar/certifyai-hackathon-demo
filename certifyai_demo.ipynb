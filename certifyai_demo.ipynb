{
  "nbformat": 4,
  "nbformat_minor": 0,
  "metadata": {
    "colab": {
      "provenance": []
    },
    "kernelspec": {
      "name": "python3",
      "display_name": "Python 3"
    },
    "language_info": {
      "name": "python"
    }
  },
  "cells": [
    {
      "cell_type": "code",
      "execution_count": 1,
      "metadata": {
        "id": "pjswran3sjqs",
        "colab": {
          "base_uri": "https://localhost:8080/"
        },
        "outputId": "f7d2461a-bbb1-4450-a5c2-9bd7fcde8624"
      },
      "outputs": [
        {
          "output_type": "stream",
          "name": "stdout",
          "text": [
            "\u001b[2K     \u001b[90m━━━━━━━━━━━━━━━━━━━━━━━━━━━━━━━━━━━━━━━━\u001b[0m \u001b[32m44.3/44.3 kB\u001b[0m \u001b[31m1.8 MB/s\u001b[0m eta \u001b[36m0:00:00\u001b[0m\n",
            "\u001b[2K   \u001b[90m━━━━━━━━━━━━━━━━━━━━━━━━━━━━━━━━━━━━━━━━\u001b[0m \u001b[32m10.1/10.1 MB\u001b[0m \u001b[31m64.3 MB/s\u001b[0m eta \u001b[36m0:00:00\u001b[0m\n",
            "\u001b[2K   \u001b[90m━━━━━━━━━━━━━━━━━━━━━━━━━━━━━━━━━━━━━━━━\u001b[0m \u001b[32m6.9/6.9 MB\u001b[0m \u001b[31m94.2 MB/s\u001b[0m eta \u001b[36m0:00:00\u001b[0m\n",
            "\u001b[2K   \u001b[90m━━━━━━━━━━━━━━━━━━━━━━━━━━━━━━━━━━━━━━━━\u001b[0m \u001b[32m79.1/79.1 kB\u001b[0m \u001b[31m5.4 MB/s\u001b[0m eta \u001b[36m0:00:00\u001b[0m\n",
            "\u001b[?25hCloning into 'certifyai-hackathon-demo'...\n",
            "remote: Enumerating objects: 6, done.\u001b[K\n",
            "remote: Counting objects: 100% (6/6), done.\u001b[K\n",
            "remote: Compressing objects: 100% (4/4), done.\u001b[K\n",
            "Receiving objects: 100% (6/6), 4.15 KiB | 4.15 MiB/s, done.\n",
            "remote: Total 6 (delta 0), reused 0 (delta 0), pack-reused 0 (from 0)\u001b[K\n",
            "Click the URL to open your CertifyAI prototype:\n",
            "NgrokTunnel: \"https://df8c-104-196-195-165.ngrok-free.app\" -> \"http://localhost:8501\"\n"
          ]
        }
      ],
      "source": [
        "# Install all the necessary libraries\n",
        "!pip install streamlit -q\n",
        "!pip install pyngrok -q\n",
        "\n",
        "# --- Get the public URL for the Streamlit app ---\n",
        "from pyngrok import ngrok\n",
        "\n",
        "# Clone your GitHub repository\n",
        "# Make sure to replace this URL with your own!\n",
        "!git clone https://github.com/BaivhavKummar/certifyai-hackathon-demo.git\n",
        "\n",
        "# Run the Streamlit app in the background\n",
        "# Replace 'certifyai-hackathon-demo' with the actual name of your folder if it's different\n",
        "!streamlit run /content/certifyai-hackathon-demo/app.py &>/dev/null&\n",
        "\n",
        "# Terminate any existing tunnels\n",
        "ngrok.kill()\n",
        "\n",
        "# Get your ngrok authtoken from https://dashboard.ngrok.com/get-started/your-authtoken\n",
        "# It's better to store this as a secret in Colab, but for a quick demo, pasting it is fine.\n",
        "NGROK_AUTH_TOKEN = \"2zRZ0NEfH3FMKVQLtJRUxNXqm7g_3pDWo66XspHE8G6KFggXZ\"\n",
        "ngrok.set_auth_token(NGROK_AUTH_TOKEN)\n",
        "\n",
        "# Open a tunnel to the Streamlit port (8501)\n",
        "public_url = ngrok.connect(8501)\n",
        "print(\"Click the URL to open your CertifyAI prototype:\")\n",
        "print(public_url)"
      ]
    },
    {
      "cell_type": "code",
      "source": [],
      "metadata": {
        "id": "dA6ag-94PB5Q"
      },
      "execution_count": null,
      "outputs": []
    }
  ]
}